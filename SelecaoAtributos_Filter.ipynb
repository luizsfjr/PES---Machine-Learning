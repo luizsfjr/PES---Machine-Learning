{
 "cells": [
  {
   "cell_type": "markdown",
   "metadata": {},
   "source": [
    "# Relatório ML II - Seleção de Atributos com Filter"
   ]
  },
  {
   "cell_type": "markdown",
   "metadata": {},
   "source": [
    "## Carregando pacotes"
   ]
  },
  {
   "cell_type": "code",
   "execution_count": 1,
   "metadata": {},
   "outputs": [],
   "source": [
    "from sklearn.model_selection import train_test_split\n",
    "\n",
    "from sklearn.feature_selection import VarianceThreshold\n",
    "\n",
    "from sklearn.neighbors import KNeighborsClassifier\n",
    "from sklearn.tree import DecisionTreeClassifier\n",
    "from sklearn.ensemble import RandomForestClassifier\n",
    "from sklearn.linear_model import LogisticRegression\n",
    "from sklearn.naive_bayes import GaussianNB\n",
    "from sklearn.neural_network import MLPClassifier\n",
    "from sklearn.svm import SVC\n",
    "\n",
    "from sklearn.metrics import (confusion_matrix, \n",
    "                             ConfusionMatrixDisplay, \n",
    "                             classification_report, \n",
    "                             RocCurveDisplay,\n",
    "                             roc_curve,\n",
    "                             r2_score,\n",
    "                             mean_squared_error,\n",
    "                             auc, accuracy_score)\n",
    "import warnings\n",
    "warnings.filterwarnings('ignore')\n",
    "import pandas as pd\n",
    "from scipy.io.arff import loadarff "
   ]
  },
  {
   "cell_type": "markdown",
   "metadata": {},
   "source": [
    "## Carregando banco de dados letter"
   ]
  },
  {
   "cell_type": "code",
   "execution_count": 2,
   "metadata": {},
   "outputs": [],
   "source": [
    "df_data = pd.DataFrame(loadarff('dataset_6_letter.arff')[0])\n",
    "df_data['class'] = df_data['class'].astype(str).str.extract(\"b'([A-Z])'\")\n",
    "df_data['class'] = pd.factorize(df_data['class'])[0]"
   ]
  },
  {
   "cell_type": "markdown",
   "metadata": {},
   "source": [
    "## Separação das Features do Target"
   ]
  },
  {
   "cell_type": "code",
   "execution_count": 3,
   "metadata": {},
   "outputs": [],
   "source": [
    "# Features\n",
    "X = df_data.iloc[:,0:-1]\n",
    "# Class\n",
    "y = df_data.iloc[:,-1]"
   ]
  },
  {
   "cell_type": "markdown",
   "metadata": {},
   "source": [
    "## Filter selecionando 12 features"
   ]
  },
  {
   "cell_type": "code",
   "execution_count": 4,
   "metadata": {},
   "outputs": [
    {
     "name": "stdout",
     "output_type": "stream",
     "text": [
      "Total de features: 16\n",
      "Selecionados: 12\n"
     ]
    }
   ],
   "source": [
    "filter_variance = VarianceThreshold(4.10)\n",
    "X_filtered = filter_variance.fit_transform(X)\n",
    "print(f'Total de features: {X.shape[1]}')\n",
    "print(f'Selecionados: {X_filtered.shape[1]}')"
   ]
  },
  {
   "cell_type": "code",
   "execution_count": 11,
   "metadata": {},
   "outputs": [],
   "source": [
    "def show_selected(filter_variance):\n",
    "    mask = filter_variance.get_support()\n",
    "    print(X.columns[mask])"
   ]
  },
  {
   "cell_type": "code",
   "execution_count": 10,
   "metadata": {},
   "outputs": [
    {
     "name": "stdout",
     "output_type": "stream",
     "text": [
      "Index(['y-box', 'high', 'onpix', 'x-bar', 'y-bar', 'x2bar', 'y2bar', 'xybar',\n",
      "       'x2ybr', 'xy2br', 'x-ege', 'y-ege'],\n",
      "      dtype='object')\n"
     ]
    }
   ],
   "source": [
    "show_selected(filter_variance)"
   ]
  },
  {
   "cell_type": "markdown",
   "metadata": {},
   "source": [
    "### Separação da base treinamento da base de teste"
   ]
  },
  {
   "cell_type": "code",
   "execution_count": 18,
   "metadata": {},
   "outputs": [],
   "source": [
    "X_train, X_test, y_train, y_test = train_test_split(X_filtered, y, test_size=0.2, random_state=42, stratify=y)"
   ]
  },
  {
   "cell_type": "markdown",
   "metadata": {},
   "source": [
    "### Função de cálculo de métricas"
   ]
  },
  {
   "cell_type": "code",
   "execution_count": 19,
   "metadata": {},
   "outputs": [],
   "source": [
    "def eval_model(model):\n",
    "    model.fit(X_train,y_train)\n",
    "    y_pred = model.predict(X_test)\n",
    "    print(classification_report(y_test, y_pred))\n",
    "    print(\"MSE:\", mean_squared_error(y_test, y_pred))\n",
    "    print(\"R2_score:\", r2_score(y_test, y_pred))\n",
    "    print(\"Accuracy score:\", accuracy_score(y_test,y_pred))"
   ]
  },
  {
   "cell_type": "markdown",
   "metadata": {},
   "source": [
    "### KNN"
   ]
  },
  {
   "cell_type": "code",
   "execution_count": 20,
   "metadata": {},
   "outputs": [
    {
     "name": "stdout",
     "output_type": "stream",
     "text": [
      "              precision    recall  f1-score   support\n",
      "\n",
      "           0       1.00      0.97      0.98       147\n",
      "           1       0.97      0.90      0.93       161\n",
      "           2       0.95      0.97      0.96       149\n",
      "           3       0.88      0.88      0.88       147\n",
      "           4       0.89      0.92      0.90       155\n",
      "           5       0.94      0.95      0.95       157\n",
      "           6       0.85      0.85      0.85       151\n",
      "           7       0.98      0.98      0.98       158\n",
      "           8       0.93      0.96      0.94       161\n",
      "           9       0.94      0.95      0.94       153\n",
      "          10       0.99      0.98      0.99       158\n",
      "          11       0.89      0.89      0.89       148\n",
      "          12       0.90      0.90      0.90       154\n",
      "          13       0.92      0.94      0.93       151\n",
      "          14       0.93      0.97      0.95       157\n",
      "          15       0.95      0.95      0.95       152\n",
      "          16       0.97      0.96      0.96       157\n",
      "          17       0.96      0.96      0.96       157\n",
      "          18       0.95      0.95      0.95       151\n",
      "          19       0.98      0.96      0.97       150\n",
      "          20       0.96      0.98      0.97       163\n",
      "          21       0.94      0.93      0.93       159\n",
      "          22       0.98      0.98      0.98       147\n",
      "          23       0.95      0.94      0.94       155\n",
      "          24       0.87      0.86      0.87       153\n",
      "          25       0.97      0.96      0.97       149\n",
      "\n",
      "    accuracy                           0.94      4000\n",
      "   macro avg       0.94      0.94      0.94      4000\n",
      "weighted avg       0.94      0.94      0.94      4000\n",
      "\n",
      "MSE: 6.90175\n",
      "R2_score: 0.8764864109869084\n",
      "Accuracy score: 0.94075\n"
     ]
    }
   ],
   "source": [
    "model = KNeighborsClassifier(n_neighbors=1,metric='euclidean')\n",
    "eval_model(model)"
   ]
  },
  {
   "cell_type": "markdown",
   "metadata": {},
   "source": [
    "### Árvore de Decisão"
   ]
  },
  {
   "cell_type": "code",
   "execution_count": 21,
   "metadata": {},
   "outputs": [
    {
     "name": "stdout",
     "output_type": "stream",
     "text": [
      "              precision    recall  f1-score   support\n",
      "\n",
      "           0       0.91      0.89      0.90       147\n",
      "           1       0.87      0.84      0.85       161\n",
      "           2       0.85      0.81      0.83       149\n",
      "           3       0.79      0.82      0.80       147\n",
      "           4       0.84      0.86      0.85       155\n",
      "           5       0.84      0.87      0.85       157\n",
      "           6       0.76      0.79      0.78       151\n",
      "           7       0.93      0.89      0.91       158\n",
      "           8       0.84      0.80      0.82       161\n",
      "           9       0.88      0.89      0.88       153\n",
      "          10       0.93      0.94      0.94       158\n",
      "          11       0.77      0.84      0.81       148\n",
      "          12       0.81      0.84      0.82       154\n",
      "          13       0.85      0.87      0.86       151\n",
      "          14       0.85      0.86      0.85       157\n",
      "          15       0.93      0.89      0.91       152\n",
      "          16       0.93      0.90      0.92       157\n",
      "          17       0.87      0.88      0.88       157\n",
      "          18       0.89      0.87      0.88       151\n",
      "          19       0.94      0.90      0.92       150\n",
      "          20       0.91      0.89      0.90       163\n",
      "          21       0.88      0.87      0.88       159\n",
      "          22       0.90      0.90      0.90       147\n",
      "          23       0.84      0.90      0.87       155\n",
      "          24       0.80      0.71      0.75       153\n",
      "          25       0.87      0.93      0.90       149\n",
      "\n",
      "    accuracy                           0.86      4000\n",
      "   macro avg       0.86      0.86      0.86      4000\n",
      "weighted avg       0.87      0.86      0.86      4000\n",
      "\n",
      "MSE: 15.81475\n",
      "R2_score: 0.716979529562098\n",
      "Accuracy score: 0.864\n"
     ]
    }
   ],
   "source": [
    "model = DecisionTreeClassifier(criterion='log_loss',max_depth=100,splitter='best')\n",
    "eval_model(model)"
   ]
  },
  {
   "cell_type": "markdown",
   "metadata": {},
   "source": [
    "### Floresta Randômica"
   ]
  },
  {
   "cell_type": "code",
   "execution_count": 22,
   "metadata": {},
   "outputs": [
    {
     "name": "stdout",
     "output_type": "stream",
     "text": [
      "              precision    recall  f1-score   support\n",
      "\n",
      "           0       0.98      0.95      0.97       147\n",
      "           1       0.91      0.93      0.92       161\n",
      "           2       0.90      0.91      0.90       149\n",
      "           3       0.84      0.83      0.84       147\n",
      "           4       0.87      0.94      0.90       155\n",
      "           5       0.92      0.92      0.92       157\n",
      "           6       0.86      0.91      0.88       151\n",
      "           7       0.95      0.97      0.96       158\n",
      "           8       0.86      0.91      0.88       161\n",
      "           9       0.95      0.89      0.92       153\n",
      "          10       0.96      0.97      0.97       158\n",
      "          11       0.87      0.85      0.86       148\n",
      "          12       0.92      0.92      0.92       154\n",
      "          13       0.91      0.90      0.91       151\n",
      "          14       0.92      0.96      0.94       157\n",
      "          15       0.97      0.92      0.95       152\n",
      "          16       0.93      0.95      0.94       157\n",
      "          17       0.98      0.92      0.95       157\n",
      "          18       0.97      0.89      0.93       151\n",
      "          19       0.95      0.99      0.97       150\n",
      "          20       0.97      0.94      0.96       163\n",
      "          21       0.95      0.94      0.94       159\n",
      "          22       0.98      0.95      0.97       147\n",
      "          23       0.93      0.92      0.93       155\n",
      "          24       0.83      0.85      0.84       153\n",
      "          25       0.94      0.97      0.96       149\n",
      "\n",
      "    accuracy                           0.92      4000\n",
      "   macro avg       0.92      0.92      0.92      4000\n",
      "weighted avg       0.92      0.92      0.92      4000\n",
      "\n",
      "MSE: 9.279\n",
      "R2_score: 0.833943189415369\n",
      "Accuracy score: 0.92375\n"
     ]
    }
   ],
   "source": [
    "model = RandomForestClassifier(criterion='entropy',max_depth=1000,n_estimators=10)\n",
    "eval_model(model)"
   ]
  },
  {
   "cell_type": "markdown",
   "metadata": {},
   "source": [
    "### Regressão Logística"
   ]
  },
  {
   "cell_type": "code",
   "execution_count": 23,
   "metadata": {},
   "outputs": [
    {
     "name": "stdout",
     "output_type": "stream",
     "text": [
      "              precision    recall  f1-score   support\n",
      "\n",
      "           0       0.76      0.73      0.75       147\n",
      "           1       0.79      0.78      0.79       161\n",
      "           2       0.51      0.56      0.53       149\n",
      "           3       0.49      0.39      0.43       147\n",
      "           4       0.72      0.74      0.73       155\n",
      "           5       0.76      0.80      0.78       157\n",
      "           6       0.61      0.70      0.65       151\n",
      "           7       0.81      0.87      0.84       158\n",
      "           8       0.68      0.71      0.70       161\n",
      "           9       0.78      0.83      0.81       153\n",
      "          10       0.91      0.85      0.88       158\n",
      "          11       0.55      0.69      0.61       148\n",
      "          12       0.68      0.69      0.69       154\n",
      "          13       0.66      0.52      0.58       151\n",
      "          14       0.70      0.75      0.72       157\n",
      "          15       0.83      0.72      0.77       152\n",
      "          16       0.76      0.72      0.74       157\n",
      "          17       0.76      0.70      0.73       157\n",
      "          18       0.79      0.79      0.79       151\n",
      "          19       0.82      0.82      0.82       150\n",
      "          20       0.84      0.81      0.82       163\n",
      "          21       0.77      0.73      0.75       159\n",
      "          22       0.77      0.72      0.74       147\n",
      "          23       0.60      0.56      0.58       155\n",
      "          24       0.58      0.65      0.61       153\n",
      "          25       0.74      0.73      0.73       149\n",
      "\n",
      "    accuracy                           0.72      4000\n",
      "   macro avg       0.72      0.71      0.71      4000\n",
      "weighted avg       0.72      0.72      0.72      4000\n",
      "\n",
      "MSE: 35.8275\n",
      "R2_score: 0.35883172958068055\n",
      "Accuracy score: 0.71575\n"
     ]
    }
   ],
   "source": [
    "model = LogisticRegression(penalty='l2',C=0.5,solver='newton-cg')\n",
    "eval_model(model)"
   ]
  },
  {
   "cell_type": "markdown",
   "metadata": {},
   "source": [
    "### Naive Bayes Gaussiano"
   ]
  },
  {
   "cell_type": "code",
   "execution_count": 24,
   "metadata": {},
   "outputs": [
    {
     "name": "stdout",
     "output_type": "stream",
     "text": [
      "              precision    recall  f1-score   support\n",
      "\n",
      "           0       0.82      0.66      0.73       147\n",
      "           1       0.82      0.72      0.77       161\n",
      "           2       0.34      0.28      0.31       149\n",
      "           3       0.54      0.31      0.39       147\n",
      "           4       0.63      0.79      0.70       155\n",
      "           5       0.82      0.59      0.69       157\n",
      "           6       0.60      0.60      0.60       151\n",
      "           7       0.62      0.86      0.72       158\n",
      "           8       0.57      0.73      0.64       161\n",
      "           9       0.69      0.75      0.72       153\n",
      "          10       0.86      0.87      0.86       158\n",
      "          11       0.51      0.53      0.52       148\n",
      "          12       0.57      0.32      0.41       154\n",
      "          13       0.52      0.69      0.59       151\n",
      "          14       0.54      0.61      0.57       157\n",
      "          15       0.99      0.72      0.83       152\n",
      "          16       0.46      0.62      0.53       157\n",
      "          17       0.65      0.22      0.33       157\n",
      "          18       0.57      0.75      0.65       151\n",
      "          19       0.81      0.79      0.80       150\n",
      "          20       0.99      0.61      0.76       163\n",
      "          21       0.64      0.58      0.61       159\n",
      "          22       0.69      0.73      0.71       147\n",
      "          23       0.52      0.57      0.55       155\n",
      "          24       0.38      0.67      0.48       153\n",
      "          25       0.61      0.61      0.61       149\n",
      "\n",
      "    accuracy                           0.62      4000\n",
      "   macro avg       0.65      0.62      0.62      4000\n",
      "weighted avg       0.65      0.62      0.62      4000\n",
      "\n",
      "MSE: 46.16225\n",
      "R2_score: 0.17388123672697708\n",
      "Accuracy score: 0.623\n"
     ]
    }
   ],
   "source": [
    "model = GaussianNB()\n",
    "eval_model(model)"
   ]
  },
  {
   "cell_type": "markdown",
   "metadata": {},
   "source": [
    "### MLP"
   ]
  },
  {
   "cell_type": "code",
   "execution_count": 25,
   "metadata": {},
   "outputs": [
    {
     "name": "stdout",
     "output_type": "stream",
     "text": [
      "              precision    recall  f1-score   support\n",
      "\n",
      "           0       0.88      0.81      0.84       147\n",
      "           1       0.96      0.87      0.91       161\n",
      "           2       0.64      0.75      0.69       149\n",
      "           3       0.80      0.69      0.74       147\n",
      "           4       0.83      0.84      0.84       155\n",
      "           5       0.92      0.86      0.89       157\n",
      "           6       0.72      0.74      0.73       151\n",
      "           7       0.87      0.94      0.90       158\n",
      "           8       0.74      0.84      0.79       161\n",
      "           9       0.88      0.88      0.88       153\n",
      "          10       0.98      0.88      0.93       158\n",
      "          11       0.78      0.76      0.77       148\n",
      "          12       0.71      0.73      0.72       154\n",
      "          13       0.90      0.79      0.84       151\n",
      "          14       0.80      0.89      0.84       157\n",
      "          15       0.93      0.88      0.90       152\n",
      "          16       0.87      0.90      0.88       157\n",
      "          17       0.85      0.88      0.86       157\n",
      "          18       0.86      0.87      0.86       151\n",
      "          19       0.92      0.95      0.93       150\n",
      "          20       0.89      0.86      0.87       163\n",
      "          21       0.86      0.75      0.80       159\n",
      "          22       0.85      0.80      0.83       147\n",
      "          23       0.73      0.79      0.76       155\n",
      "          24       0.63      0.77      0.70       153\n",
      "          25       0.94      0.86      0.90       149\n",
      "\n",
      "    accuracy                           0.83      4000\n",
      "   macro avg       0.84      0.83      0.83      4000\n",
      "weighted avg       0.84      0.83      0.83      4000\n",
      "\n",
      "MSE: 21.48025\n",
      "R2_score: 0.6155898474447119\n",
      "Accuracy score: 0.8305\n"
     ]
    }
   ],
   "source": [
    "model = MLPClassifier(activation='tanh', hidden_layer_sizes= (16, 26), learning_rate= 'invscaling')\n",
    "eval_model(model)"
   ]
  },
  {
   "cell_type": "markdown",
   "metadata": {},
   "source": [
    "### SVM"
   ]
  },
  {
   "cell_type": "code",
   "execution_count": 26,
   "metadata": {},
   "outputs": [
    {
     "name": "stdout",
     "output_type": "stream",
     "text": [
      "              precision    recall  f1-score   support\n",
      "\n",
      "           0       0.99      0.96      0.98       147\n",
      "           1       0.98      0.88      0.93       161\n",
      "           2       0.99      0.97      0.98       149\n",
      "           3       0.87      0.89      0.88       147\n",
      "           4       0.89      0.92      0.90       155\n",
      "           5       0.92      0.96      0.94       157\n",
      "           6       0.86      0.91      0.88       151\n",
      "           7       0.99      0.97      0.98       158\n",
      "           8       0.90      0.91      0.90       161\n",
      "           9       0.95      0.95      0.95       153\n",
      "          10       0.99      0.99      0.99       158\n",
      "          11       0.90      0.89      0.89       148\n",
      "          12       0.89      0.92      0.90       154\n",
      "          13       0.97      0.93      0.95       151\n",
      "          14       0.91      0.99      0.95       157\n",
      "          15       0.99      0.96      0.97       152\n",
      "          16       0.97      0.96      0.97       157\n",
      "          17       0.99      0.97      0.98       157\n",
      "          18       0.96      0.95      0.95       151\n",
      "          19       0.97      0.99      0.98       150\n",
      "          20       0.98      0.95      0.97       163\n",
      "          21       0.96      0.96      0.96       159\n",
      "          22       0.95      0.94      0.95       147\n",
      "          23       0.96      0.95      0.96       155\n",
      "          24       0.87      0.90      0.88       153\n",
      "          25       0.95      0.95      0.95       149\n",
      "\n",
      "    accuracy                           0.94      4000\n",
      "   macro avg       0.94      0.94      0.94      4000\n",
      "weighted avg       0.94      0.94      0.94      4000\n",
      "\n",
      "MSE: 6.25275\n",
      "R2_score: 0.8881009028577378\n",
      "Accuracy score: 0.94325\n"
     ]
    }
   ],
   "source": [
    "model = SVC(C= 20, decision_function_shape= 'ovo', kernel= 'rbf')\n",
    "eval_model(model)"
   ]
  },
  {
   "cell_type": "markdown",
   "metadata": {},
   "source": [
    "## Filter selecionando 8 features"
   ]
  },
  {
   "cell_type": "code",
   "execution_count": 13,
   "metadata": {},
   "outputs": [
    {
     "name": "stdout",
     "output_type": "stream",
     "text": [
      "Total de features: 16\n",
      "Selecionados: 8\n"
     ]
    }
   ],
   "source": [
    "filter_variance = VarianceThreshold(5.25)\n",
    "X_filtered = filter_variance.fit_transform(X)\n",
    "print(f'Total de features: {X.shape[1]}')\n",
    "print(f'Selecionados: {X_filtered.shape[1]}')"
   ]
  },
  {
   "cell_type": "code",
   "execution_count": 14,
   "metadata": {},
   "outputs": [
    {
     "name": "stdout",
     "output_type": "stream",
     "text": [
      "Index(['y-box', 'y-bar', 'x2bar', 'y2bar', 'xybar', 'x2ybr', 'x-ege', 'y-ege'], dtype='object')\n"
     ]
    }
   ],
   "source": [
    "show_selected(filter_variance)"
   ]
  },
  {
   "cell_type": "markdown",
   "metadata": {},
   "source": [
    "### Separação da base treinamento da base de teste"
   ]
  },
  {
   "cell_type": "code",
   "execution_count": 28,
   "metadata": {},
   "outputs": [],
   "source": [
    "X_train, X_test, y_train, y_test = train_test_split(X_filtered, y, test_size=0.2, random_state=42, stratify=y)"
   ]
  },
  {
   "cell_type": "markdown",
   "metadata": {},
   "source": [
    "### KNN"
   ]
  },
  {
   "cell_type": "code",
   "execution_count": 29,
   "metadata": {},
   "outputs": [
    {
     "name": "stdout",
     "output_type": "stream",
     "text": [
      "              precision    recall  f1-score   support\n",
      "\n",
      "           0       0.98      0.94      0.96       147\n",
      "           1       0.89      0.88      0.89       161\n",
      "           2       0.91      0.91      0.91       149\n",
      "           3       0.76      0.87      0.81       147\n",
      "           4       0.88      0.90      0.89       155\n",
      "           5       0.92      0.92      0.92       157\n",
      "           6       0.81      0.83      0.82       151\n",
      "           7       0.95      0.97      0.96       158\n",
      "           8       0.83      0.80      0.81       161\n",
      "           9       0.91      0.91      0.91       153\n",
      "          10       0.97      0.95      0.96       158\n",
      "          11       0.85      0.80      0.82       148\n",
      "          12       0.83      0.84      0.83       154\n",
      "          13       0.85      0.89      0.87       151\n",
      "          14       0.88      0.92      0.90       157\n",
      "          15       0.92      0.93      0.93       152\n",
      "          16       0.92      0.91      0.92       157\n",
      "          17       0.95      0.92      0.94       157\n",
      "          18       0.95      0.93      0.94       151\n",
      "          19       0.96      0.97      0.97       150\n",
      "          20       0.96      0.96      0.96       163\n",
      "          21       0.96      0.95      0.96       159\n",
      "          22       0.92      0.90      0.91       147\n",
      "          23       0.88      0.83      0.86       155\n",
      "          24       0.77      0.77      0.77       153\n",
      "          25       0.94      0.94      0.94       149\n",
      "\n",
      "    accuracy                           0.90      4000\n",
      "   macro avg       0.90      0.90      0.90      4000\n",
      "weighted avg       0.90      0.90      0.90      4000\n",
      "\n",
      "MSE: 12.25525\n",
      "R2_score: 0.7806802750385495\n",
      "Accuracy score: 0.898\n"
     ]
    }
   ],
   "source": [
    "model = KNeighborsClassifier(n_neighbors=1,metric='euclidean')\n",
    "eval_model(model)"
   ]
  },
  {
   "cell_type": "markdown",
   "metadata": {},
   "source": [
    "### Árvore de Decisão"
   ]
  },
  {
   "cell_type": "code",
   "execution_count": 30,
   "metadata": {},
   "outputs": [
    {
     "name": "stdout",
     "output_type": "stream",
     "text": [
      "              precision    recall  f1-score   support\n",
      "\n",
      "           0       0.94      0.91      0.92       147\n",
      "           1       0.80      0.82      0.81       161\n",
      "           2       0.82      0.82      0.82       149\n",
      "           3       0.76      0.79      0.78       147\n",
      "           4       0.86      0.86      0.86       155\n",
      "           5       0.83      0.90      0.87       157\n",
      "           6       0.77      0.77      0.77       151\n",
      "           7       0.94      0.90      0.92       158\n",
      "           8       0.70      0.71      0.71       161\n",
      "           9       0.90      0.87      0.88       153\n",
      "          10       0.92      0.92      0.92       158\n",
      "          11       0.75      0.78      0.76       148\n",
      "          12       0.83      0.80      0.81       154\n",
      "          13       0.83      0.83      0.83       151\n",
      "          14       0.78      0.84      0.81       157\n",
      "          15       0.91      0.89      0.90       152\n",
      "          16       0.88      0.92      0.90       157\n",
      "          17       0.88      0.85      0.86       157\n",
      "          18       0.90      0.87      0.89       151\n",
      "          19       0.90      0.91      0.90       150\n",
      "          20       0.91      0.91      0.91       163\n",
      "          21       0.88      0.84      0.86       159\n",
      "          22       0.88      0.80      0.84       147\n",
      "          23       0.75      0.81      0.78       155\n",
      "          24       0.68      0.63      0.66       153\n",
      "          25       0.88      0.93      0.90       149\n",
      "\n",
      "    accuracy                           0.84      4000\n",
      "   macro avg       0.84      0.84      0.84      4000\n",
      "weighted avg       0.84      0.84      0.84      4000\n",
      "\n",
      "MSE: 18.9905\n",
      "R2_score: 0.6601463669137371\n",
      "Accuracy score: 0.8415\n"
     ]
    }
   ],
   "source": [
    "model = DecisionTreeClassifier(criterion='log_loss',max_depth=100,splitter='best')\n",
    "eval_model(model)"
   ]
  },
  {
   "cell_type": "markdown",
   "metadata": {},
   "source": [
    "### Floresta Randomica"
   ]
  },
  {
   "cell_type": "code",
   "execution_count": 31,
   "metadata": {},
   "outputs": [
    {
     "name": "stdout",
     "output_type": "stream",
     "text": [
      "              precision    recall  f1-score   support\n",
      "\n",
      "           0       0.92      0.92      0.92       147\n",
      "           1       0.91      0.88      0.89       161\n",
      "           2       0.89      0.91      0.90       149\n",
      "           3       0.80      0.90      0.85       147\n",
      "           4       0.84      0.89      0.87       155\n",
      "           5       0.86      0.93      0.89       157\n",
      "           6       0.78      0.87      0.83       151\n",
      "           7       0.92      0.92      0.92       158\n",
      "           8       0.77      0.77      0.77       161\n",
      "           9       0.91      0.91      0.91       153\n",
      "          10       0.94      0.94      0.94       158\n",
      "          11       0.87      0.86      0.86       148\n",
      "          12       0.83      0.81      0.82       154\n",
      "          13       0.87      0.84      0.86       151\n",
      "          14       0.86      0.92      0.89       157\n",
      "          15       0.94      0.89      0.92       152\n",
      "          16       0.92      0.93      0.92       157\n",
      "          17       0.94      0.90      0.92       157\n",
      "          18       0.95      0.90      0.93       151\n",
      "          19       0.93      0.93      0.93       150\n",
      "          20       0.93      0.94      0.93       163\n",
      "          21       0.96      0.92      0.94       159\n",
      "          22       0.91      0.86      0.88       147\n",
      "          23       0.87      0.83      0.85       155\n",
      "          24       0.76      0.69      0.72       153\n",
      "          25       0.91      0.93      0.92       149\n",
      "\n",
      "    accuracy                           0.88      4000\n",
      "   macro avg       0.88      0.88      0.88      4000\n",
      "weighted avg       0.88      0.88      0.88      4000\n",
      "\n",
      "MSE: 13.69575\n",
      "R2_score: 0.7549011139600755\n",
      "Accuracy score: 0.8835\n"
     ]
    }
   ],
   "source": [
    "model = RandomForestClassifier(criterion='entropy',max_depth=1000,n_estimators=10)\n",
    "eval_model(model)"
   ]
  },
  {
   "cell_type": "markdown",
   "metadata": {},
   "source": [
    "### Regressão Logística"
   ]
  },
  {
   "cell_type": "code",
   "execution_count": 32,
   "metadata": {},
   "outputs": [
    {
     "name": "stdout",
     "output_type": "stream",
     "text": [
      "              precision    recall  f1-score   support\n",
      "\n",
      "           0       0.67      0.64      0.66       147\n",
      "           1       0.78      0.68      0.73       161\n",
      "           2       0.33      0.40      0.36       149\n",
      "           3       0.27      0.18      0.22       147\n",
      "           4       0.65      0.67      0.66       155\n",
      "           5       0.71      0.82      0.76       157\n",
      "           6       0.58      0.79      0.67       151\n",
      "           7       0.83      0.85      0.84       158\n",
      "           8       0.49      0.61      0.55       161\n",
      "           9       0.75      0.82      0.78       153\n",
      "          10       0.94      0.84      0.89       158\n",
      "          11       0.17      0.18      0.17       148\n",
      "          12       0.46      0.36      0.40       154\n",
      "          13       0.63      0.46      0.53       151\n",
      "          14       0.37      0.48      0.42       157\n",
      "          15       0.81      0.71      0.76       152\n",
      "          16       0.48      0.55      0.51       157\n",
      "          17       0.64      0.62      0.63       157\n",
      "          18       0.74      0.77      0.76       151\n",
      "          19       0.84      0.80      0.82       150\n",
      "          20       0.82      0.77      0.79       163\n",
      "          21       0.73      0.70      0.71       159\n",
      "          22       0.69      0.69      0.69       147\n",
      "          23       0.48      0.35      0.40       155\n",
      "          24       0.32      0.33      0.33       153\n",
      "          25       0.69      0.63      0.66       149\n",
      "\n",
      "    accuracy                           0.61      4000\n",
      "   macro avg       0.61      0.60      0.60      4000\n",
      "weighted avg       0.61      0.61      0.61      4000\n",
      "\n",
      "MSE: 42.03625\n",
      "R2_score: 0.24772005561610166\n",
      "Accuracy score: 0.60675\n"
     ]
    }
   ],
   "source": [
    "model = LogisticRegression(penalty='l2',C=0.5,solver='newton-cg')\n",
    "eval_model(model)"
   ]
  },
  {
   "cell_type": "markdown",
   "metadata": {},
   "source": [
    "### Naive Bayes Gaussiano"
   ]
  },
  {
   "cell_type": "code",
   "execution_count": 33,
   "metadata": {},
   "outputs": [
    {
     "name": "stdout",
     "output_type": "stream",
     "text": [
      "              precision    recall  f1-score   support\n",
      "\n",
      "           0       0.75      0.63      0.68       147\n",
      "           1       0.90      0.61      0.73       161\n",
      "           2       0.31      0.25      0.27       149\n",
      "           3       0.67      0.31      0.42       147\n",
      "           4       0.59      0.73      0.65       155\n",
      "           5       0.85      0.66      0.74       157\n",
      "           6       0.60      0.57      0.59       151\n",
      "           7       0.69      0.88      0.78       158\n",
      "           8       0.49      0.43      0.46       161\n",
      "           9       0.69      0.76      0.72       153\n",
      "          10       0.88      0.86      0.87       158\n",
      "          11       0.15      0.11      0.13       148\n",
      "          12       0.47      0.34      0.39       154\n",
      "          13       0.42      0.70      0.52       151\n",
      "          14       0.55      0.52      0.53       157\n",
      "          15       0.84      0.72      0.77       152\n",
      "          16       0.33      0.58      0.42       157\n",
      "          17       0.71      0.19      0.30       157\n",
      "          18       0.62      0.78      0.69       151\n",
      "          19       0.75      0.78      0.76       150\n",
      "          20       0.96      0.50      0.66       163\n",
      "          21       0.52      0.64      0.57       159\n",
      "          22       0.54      0.61      0.57       147\n",
      "          23       0.39      0.44      0.41       155\n",
      "          24       0.23      0.43      0.30       153\n",
      "          25       0.67      0.59      0.63       149\n",
      "\n",
      "    accuracy                           0.56      4000\n",
      "   macro avg       0.60      0.56      0.56      4000\n",
      "weighted avg       0.60      0.56      0.56      4000\n",
      "\n",
      "MSE: 48.91175\n",
      "R2_score: 0.12467623611242351\n",
      "Accuracy score: 0.56275\n"
     ]
    }
   ],
   "source": [
    "model = GaussianNB()\n",
    "eval_model(model)"
   ]
  },
  {
   "cell_type": "markdown",
   "metadata": {},
   "source": [
    "### MLP"
   ]
  },
  {
   "cell_type": "code",
   "execution_count": 34,
   "metadata": {},
   "outputs": [
    {
     "name": "stdout",
     "output_type": "stream",
     "text": [
      "              precision    recall  f1-score   support\n",
      "\n",
      "           0       0.82      0.80      0.81       147\n",
      "           1       0.86      0.81      0.83       161\n",
      "           2       0.60      0.67      0.63       149\n",
      "           3       0.65      0.60      0.62       147\n",
      "           4       0.73      0.75      0.74       155\n",
      "           5       0.86      0.83      0.85       157\n",
      "           6       0.65      0.77      0.71       151\n",
      "           7       0.91      0.91      0.91       158\n",
      "           8       0.68      0.69      0.68       161\n",
      "           9       0.88      0.83      0.85       153\n",
      "          10       0.89      0.89      0.89       158\n",
      "          11       0.70      0.70      0.70       148\n",
      "          12       0.68      0.64      0.66       154\n",
      "          13       0.74      0.78      0.76       151\n",
      "          14       0.79      0.78      0.78       157\n",
      "          15       0.84      0.85      0.84       152\n",
      "          16       0.74      0.85      0.79       157\n",
      "          17       0.82      0.71      0.76       157\n",
      "          18       0.91      0.83      0.87       151\n",
      "          19       0.86      0.87      0.87       150\n",
      "          20       0.88      0.83      0.85       163\n",
      "          21       0.79      0.72      0.75       159\n",
      "          22       0.88      0.69      0.78       147\n",
      "          23       0.67      0.76      0.71       155\n",
      "          24       0.50      0.62      0.55       153\n",
      "          25       0.86      0.83      0.84       149\n",
      "\n",
      "    accuracy                           0.77      4000\n",
      "   macro avg       0.78      0.77      0.77      4000\n",
      "weighted avg       0.78      0.77      0.77      4000\n",
      "\n",
      "MSE: 28.03925\n",
      "R2_score: 0.4982101060259605\n",
      "Accuracy score: 0.76975\n"
     ]
    }
   ],
   "source": [
    "model = MLPClassifier(activation='tanh', hidden_layer_sizes= (16, 26), learning_rate= 'invscaling')\n",
    "eval_model(model)"
   ]
  },
  {
   "cell_type": "markdown",
   "metadata": {},
   "source": [
    "### SVM"
   ]
  },
  {
   "cell_type": "code",
   "execution_count": 35,
   "metadata": {},
   "outputs": [
    {
     "name": "stdout",
     "output_type": "stream",
     "text": [
      "              precision    recall  f1-score   support\n",
      "\n",
      "           0       0.97      0.95      0.96       147\n",
      "           1       0.92      0.88      0.90       161\n",
      "           2       0.88      0.90      0.89       149\n",
      "           3       0.84      0.83      0.83       147\n",
      "           4       0.89      0.88      0.88       155\n",
      "           5       0.92      0.92      0.92       157\n",
      "           6       0.75      0.91      0.82       151\n",
      "           7       0.95      0.96      0.95       158\n",
      "           8       0.72      0.75      0.73       161\n",
      "           9       0.95      0.89      0.92       153\n",
      "          10       0.99      0.95      0.97       158\n",
      "          11       0.87      0.84      0.85       148\n",
      "          12       0.81      0.84      0.82       154\n",
      "          13       0.84      0.88      0.86       151\n",
      "          14       0.84      0.90      0.87       157\n",
      "          15       0.95      0.90      0.93       152\n",
      "          16       0.90      0.94      0.92       157\n",
      "          17       0.94      0.96      0.95       157\n",
      "          18       0.96      0.90      0.93       151\n",
      "          19       0.95      0.97      0.96       150\n",
      "          20       0.94      0.92      0.93       163\n",
      "          21       0.94      0.91      0.92       159\n",
      "          22       0.94      0.84      0.88       147\n",
      "          23       0.93      0.83      0.87       155\n",
      "          24       0.69      0.80      0.75       153\n",
      "          25       0.96      0.89      0.92       149\n",
      "\n",
      "    accuracy                           0.89      4000\n",
      "   macro avg       0.89      0.89      0.89      4000\n",
      "weighted avg       0.89      0.89      0.89      4000\n",
      "\n",
      "MSE: 13.387\n",
      "R2_score: 0.7604264981898422\n",
      "Accuracy score: 0.8895\n"
     ]
    }
   ],
   "source": [
    "model = SVC(C= 20, decision_function_shape= 'ovo', kernel= 'rbf')\n",
    "eval_model(model)"
   ]
  },
  {
   "cell_type": "markdown",
   "metadata": {},
   "source": [
    "## Filter selecionando 4 features"
   ]
  },
  {
   "cell_type": "code",
   "execution_count": 16,
   "metadata": {},
   "outputs": [
    {
     "name": "stdout",
     "output_type": "stream",
     "text": [
      "Total de features: 16\n",
      "Selecionados: 4\n"
     ]
    }
   ],
   "source": [
    "filter_variance = VarianceThreshold(6.5)\n",
    "X_filtered = filter_variance.fit_transform(X)\n",
    "print(f'Total de features: {X.shape[1]}')\n",
    "print(f'Selecionados: {X_filtered.shape[1]}')\n",
    "X_train, X_test, y_train, y_test = train_test_split(X_filtered, y, test_size=0.2, random_state=42, stratify=y)"
   ]
  },
  {
   "cell_type": "code",
   "execution_count": 17,
   "metadata": {},
   "outputs": [
    {
     "name": "stdout",
     "output_type": "stream",
     "text": [
      "Index(['y-box', 'x2bar', 'x2ybr', 'y-ege'], dtype='object')\n"
     ]
    }
   ],
   "source": [
    "show_selected(filter_variance)"
   ]
  },
  {
   "cell_type": "markdown",
   "metadata": {},
   "source": [
    "### KNN"
   ]
  },
  {
   "cell_type": "code",
   "execution_count": 37,
   "metadata": {},
   "outputs": [
    {
     "name": "stdout",
     "output_type": "stream",
     "text": [
      "              precision    recall  f1-score   support\n",
      "\n",
      "           0       0.51      0.44      0.47       147\n",
      "           1       0.27      0.25      0.26       161\n",
      "           2       0.44      0.50      0.47       149\n",
      "           3       0.46      0.44      0.45       147\n",
      "           4       0.41      0.45      0.43       155\n",
      "           5       0.52      0.54      0.53       157\n",
      "           6       0.45      0.44      0.45       151\n",
      "           7       0.55      0.56      0.56       158\n",
      "           8       0.28      0.32      0.29       161\n",
      "           9       0.59      0.51      0.55       153\n",
      "          10       0.66      0.58      0.62       158\n",
      "          11       0.28      0.27      0.28       148\n",
      "          12       0.34      0.38      0.36       154\n",
      "          13       0.38      0.41      0.40       151\n",
      "          14       0.54      0.45      0.49       157\n",
      "          15       0.55      0.61      0.58       152\n",
      "          16       0.51      0.51      0.51       157\n",
      "          17       0.64      0.62      0.63       157\n",
      "          18       0.76      0.75      0.76       151\n",
      "          19       0.63      0.63      0.63       150\n",
      "          20       0.64      0.64      0.64       163\n",
      "          21       0.49      0.48      0.49       159\n",
      "          22       0.43      0.46      0.44       147\n",
      "          23       0.43      0.48      0.45       155\n",
      "          24       0.38      0.39      0.38       153\n",
      "          25       0.59      0.53      0.56       149\n",
      "\n",
      "    accuracy                           0.49      4000\n",
      "   macro avg       0.49      0.49      0.49      4000\n",
      "weighted avg       0.49      0.49      0.49      4000\n",
      "\n",
      "MSE: 60.0065\n",
      "R2_score: -0.07387520253762858\n",
      "Accuracy score: 0.4855\n"
     ]
    }
   ],
   "source": [
    "model = KNeighborsClassifier(n_neighbors=1,metric='euclidean')\n",
    "eval_model(model)"
   ]
  },
  {
   "cell_type": "markdown",
   "metadata": {},
   "source": [
    "### Árvore de Decisão"
   ]
  },
  {
   "cell_type": "code",
   "execution_count": 38,
   "metadata": {},
   "outputs": [
    {
     "name": "stdout",
     "output_type": "stream",
     "text": [
      "              precision    recall  f1-score   support\n",
      "\n",
      "           0       0.48      0.76      0.59       147\n",
      "           1       0.35      0.39      0.37       161\n",
      "           2       0.38      0.59      0.47       149\n",
      "           3       0.50      0.50      0.50       147\n",
      "           4       0.49      0.55      0.52       155\n",
      "           5       0.59      0.59      0.59       157\n",
      "           6       0.48      0.58      0.52       151\n",
      "           7       0.55      0.58      0.57       158\n",
      "           8       0.37      0.29      0.33       161\n",
      "           9       0.61      0.71      0.66       153\n",
      "          10       0.71      0.67      0.69       158\n",
      "          11       0.37      0.26      0.30       148\n",
      "          12       0.43      0.51      0.47       154\n",
      "          13       0.45      0.54      0.49       151\n",
      "          14       0.60      0.48      0.54       157\n",
      "          15       0.70      0.65      0.68       152\n",
      "          16       0.56      0.59      0.58       157\n",
      "          17       0.71      0.63      0.67       157\n",
      "          18       0.78      0.76      0.77       151\n",
      "          19       0.73      0.65      0.69       150\n",
      "          20       0.72      0.64      0.68       163\n",
      "          21       0.64      0.43      0.52       159\n",
      "          22       0.59      0.47      0.52       147\n",
      "          23       0.52      0.51      0.52       155\n",
      "          24       0.43      0.36      0.39       153\n",
      "          25       0.74      0.54      0.63       149\n",
      "\n",
      "    accuracy                           0.55      4000\n",
      "   macro avg       0.56      0.55      0.55      4000\n",
      "weighted avg       0.56      0.55      0.55      4000\n",
      "\n",
      "MSE: 54.709\n",
      "R2_score: 0.02092875845731501\n",
      "Accuracy score: 0.5475\n"
     ]
    }
   ],
   "source": [
    "model = DecisionTreeClassifier(criterion='log_loss',max_depth=100,splitter='best')\n",
    "eval_model(model)"
   ]
  },
  {
   "cell_type": "markdown",
   "metadata": {},
   "source": [
    "### Floresta Randômica"
   ]
  },
  {
   "cell_type": "code",
   "execution_count": 39,
   "metadata": {},
   "outputs": [
    {
     "name": "stdout",
     "output_type": "stream",
     "text": [
      "              precision    recall  f1-score   support\n",
      "\n",
      "           0       0.56      0.63      0.59       147\n",
      "           1       0.41      0.34      0.37       161\n",
      "           2       0.45      0.59      0.51       149\n",
      "           3       0.53      0.49      0.51       147\n",
      "           4       0.52      0.54      0.53       155\n",
      "           5       0.64      0.56      0.60       157\n",
      "           6       0.46      0.53      0.49       151\n",
      "           7       0.58      0.60      0.59       158\n",
      "           8       0.37      0.33      0.35       161\n",
      "           9       0.66      0.70      0.68       153\n",
      "          10       0.72      0.69      0.71       158\n",
      "          11       0.32      0.23      0.27       148\n",
      "          12       0.42      0.53      0.47       154\n",
      "          13       0.47      0.60      0.53       151\n",
      "          14       0.60      0.53      0.56       157\n",
      "          15       0.66      0.66      0.66       152\n",
      "          16       0.52      0.57      0.54       157\n",
      "          17       0.68      0.65      0.67       157\n",
      "          18       0.72      0.78      0.75       151\n",
      "          19       0.71      0.69      0.70       150\n",
      "          20       0.68      0.65      0.67       163\n",
      "          21       0.59      0.47      0.52       159\n",
      "          22       0.51      0.50      0.51       147\n",
      "          23       0.49      0.51      0.50       155\n",
      "          24       0.39      0.37      0.38       153\n",
      "          25       0.64      0.55      0.59       149\n",
      "\n",
      "    accuracy                           0.55      4000\n",
      "   macro avg       0.55      0.55      0.55      4000\n",
      "weighted avg       0.55      0.55      0.55      4000\n",
      "\n",
      "MSE: 54.7345\n",
      "R2_score: 0.020472410933884855\n",
      "Accuracy score: 0.5495\n"
     ]
    }
   ],
   "source": [
    "model = RandomForestClassifier(criterion='entropy',max_depth=1000,n_estimators=10)\n",
    "eval_model(model)"
   ]
  },
  {
   "cell_type": "markdown",
   "metadata": {},
   "source": [
    "### Regressão Logística"
   ]
  },
  {
   "cell_type": "code",
   "execution_count": 40,
   "metadata": {},
   "outputs": [
    {
     "name": "stdout",
     "output_type": "stream",
     "text": [
      "              precision    recall  f1-score   support\n",
      "\n",
      "           0       0.23      0.35      0.28       147\n",
      "           1       0.07      0.03      0.04       161\n",
      "           2       0.09      0.11      0.10       149\n",
      "           3       0.21      0.11      0.14       147\n",
      "           4       0.22      0.14      0.17       155\n",
      "           5       0.30      0.36      0.33       157\n",
      "           6       0.36      0.52      0.42       151\n",
      "           7       0.37      0.23      0.28       158\n",
      "           8       0.15      0.11      0.13       161\n",
      "           9       0.43      0.44      0.43       153\n",
      "          10       0.47      0.63      0.54       158\n",
      "          11       0.08      0.03      0.05       148\n",
      "          12       0.10      0.08      0.09       154\n",
      "          13       0.26      0.25      0.25       151\n",
      "          14       0.21      0.30      0.25       157\n",
      "          15       0.38      0.39      0.39       152\n",
      "          16       0.14      0.25      0.18       157\n",
      "          17       0.48      0.58      0.52       157\n",
      "          18       0.33      0.40      0.36       151\n",
      "          19       0.52      0.55      0.53       150\n",
      "          20       0.58      0.61      0.59       163\n",
      "          21       0.39      0.40      0.39       159\n",
      "          22       0.22      0.26      0.24       147\n",
      "          23       0.15      0.05      0.08       155\n",
      "          24       0.18      0.19      0.18       153\n",
      "          25       0.33      0.29      0.31       149\n",
      "\n",
      "    accuracy                           0.29      4000\n",
      "   macro avg       0.28      0.29      0.28      4000\n",
      "weighted avg       0.28      0.29      0.28      4000\n",
      "\n",
      "MSE: 85.713\n",
      "R2_score: -0.5339182461084677\n",
      "Accuracy score: 0.29475\n"
     ]
    }
   ],
   "source": [
    "model = LogisticRegression(penalty='l2',C=0.5,solver='newton-cg')\n",
    "eval_model(model)"
   ]
  },
  {
   "cell_type": "markdown",
   "metadata": {},
   "source": [
    "### Naive Bayes Gaussiano"
   ]
  },
  {
   "cell_type": "code",
   "execution_count": 41,
   "metadata": {},
   "outputs": [
    {
     "name": "stdout",
     "output_type": "stream",
     "text": [
      "              precision    recall  f1-score   support\n",
      "\n",
      "           0       0.18      0.34      0.24       147\n",
      "           1       0.13      0.09      0.10       161\n",
      "           2       0.17      0.14      0.16       149\n",
      "           3       0.00      0.00      0.00       147\n",
      "           4       0.04      0.01      0.02       155\n",
      "           5       0.43      0.31      0.36       157\n",
      "           6       0.26      0.34      0.30       151\n",
      "           7       0.40      0.01      0.02       158\n",
      "           8       0.20      0.03      0.05       161\n",
      "           9       0.38      0.55      0.45       153\n",
      "          10       0.33      0.81      0.47       158\n",
      "          11       0.00      0.00      0.00       148\n",
      "          12       0.04      0.03      0.03       154\n",
      "          13       0.27      0.71      0.39       151\n",
      "          14       0.43      0.08      0.13       157\n",
      "          15       0.62      0.34      0.44       152\n",
      "          16       0.08      0.11      0.09       157\n",
      "          17       0.50      0.38      0.43       157\n",
      "          18       0.37      0.70      0.48       151\n",
      "          19       0.31      0.54      0.39       150\n",
      "          20       0.63      0.44      0.51       163\n",
      "          21       0.23      0.17      0.19       159\n",
      "          22       0.20      0.32      0.25       147\n",
      "          23       0.18      0.26      0.21       155\n",
      "          24       0.16      0.27      0.20       153\n",
      "          25       0.66      0.13      0.21       149\n",
      "\n",
      "    accuracy                           0.27      4000\n",
      "   macro avg       0.28      0.27      0.24      4000\n",
      "weighted avg       0.28      0.27      0.24      4000\n",
      "\n",
      "MSE: 87.04\n",
      "R2_score: -0.5576662133081449\n",
      "Accuracy score: 0.2725\n"
     ]
    }
   ],
   "source": [
    "model = GaussianNB()\n",
    "eval_model(model)"
   ]
  },
  {
   "cell_type": "markdown",
   "metadata": {},
   "source": [
    "### MLP"
   ]
  },
  {
   "cell_type": "code",
   "execution_count": 42,
   "metadata": {},
   "outputs": [
    {
     "name": "stdout",
     "output_type": "stream",
     "text": [
      "              precision    recall  f1-score   support\n",
      "\n",
      "           0       0.34      0.63      0.45       147\n",
      "           1       0.32      0.20      0.25       161\n",
      "           2       0.41      0.36      0.38       149\n",
      "           3       0.56      0.32      0.41       147\n",
      "           4       0.49      0.45      0.47       155\n",
      "           5       0.50      0.43      0.47       157\n",
      "           6       0.36      0.56      0.44       151\n",
      "           7       0.67      0.47      0.55       158\n",
      "           8       0.44      0.30      0.36       161\n",
      "           9       0.63      0.51      0.56       153\n",
      "          10       0.66      0.70      0.68       158\n",
      "          11       0.32      0.18      0.23       148\n",
      "          12       0.30      0.34      0.32       154\n",
      "          13       0.37      0.48      0.42       151\n",
      "          14       0.47      0.48      0.47       157\n",
      "          15       0.73      0.59      0.65       152\n",
      "          16       0.33      0.42      0.37       157\n",
      "          17       0.62      0.69      0.65       157\n",
      "          18       0.73      0.76      0.74       151\n",
      "          19       0.63      0.65      0.64       150\n",
      "          20       0.67      0.66      0.66       163\n",
      "          21       0.61      0.37      0.46       159\n",
      "          22       0.43      0.44      0.43       147\n",
      "          23       0.41      0.37      0.39       155\n",
      "          24       0.19      0.41      0.26       153\n",
      "          25       0.75      0.52      0.62       149\n",
      "\n",
      "    accuracy                           0.47      4000\n",
      "   macro avg       0.50      0.47      0.47      4000\n",
      "weighted avg       0.50      0.47      0.48      4000\n",
      "\n",
      "MSE: 64.881\n",
      "R2_score: -0.16110916343802573\n",
      "Accuracy score: 0.4725\n"
     ]
    }
   ],
   "source": [
    "model = MLPClassifier(activation='tanh', hidden_layer_sizes= (16, 26), learning_rate= 'invscaling')\n",
    "eval_model(model)"
   ]
  },
  {
   "cell_type": "markdown",
   "metadata": {},
   "source": [
    "### SVM"
   ]
  },
  {
   "cell_type": "code",
   "execution_count": 43,
   "metadata": {},
   "outputs": [
    {
     "name": "stdout",
     "output_type": "stream",
     "text": [
      "              precision    recall  f1-score   support\n",
      "\n",
      "           0       0.33      0.61      0.43       147\n",
      "           1       0.33      0.22      0.26       161\n",
      "           2       0.44      0.56      0.50       149\n",
      "           3       0.63      0.31      0.42       147\n",
      "           4       0.49      0.49      0.49       155\n",
      "           5       0.54      0.52      0.53       157\n",
      "           6       0.44      0.61      0.51       151\n",
      "           7       0.76      0.47      0.58       158\n",
      "           8       0.43      0.30      0.36       161\n",
      "           9       0.62      0.65      0.64       153\n",
      "          10       0.74      0.73      0.74       158\n",
      "          11       0.49      0.22      0.31       148\n",
      "          12       0.30      0.53      0.38       154\n",
      "          13       0.43      0.66      0.52       151\n",
      "          14       0.60      0.54      0.57       157\n",
      "          15       0.76      0.60      0.67       152\n",
      "          16       0.45      0.50      0.47       157\n",
      "          17       0.76      0.68      0.72       157\n",
      "          18       0.76      0.78      0.77       151\n",
      "          19       0.68      0.62      0.65       150\n",
      "          20       0.65      0.71      0.68       163\n",
      "          21       0.61      0.41      0.49       159\n",
      "          22       0.48      0.48      0.48       147\n",
      "          23       0.49      0.48      0.48       155\n",
      "          24       0.34      0.48      0.40       153\n",
      "          25       0.83      0.50      0.62       149\n",
      "\n",
      "    accuracy                           0.53      4000\n",
      "   macro avg       0.55      0.53      0.53      4000\n",
      "weighted avg       0.55      0.53      0.53      4000\n",
      "\n",
      "MSE: 57.61225\n",
      "R2_score: -0.031027749283802475\n",
      "Accuracy score: 0.52525\n"
     ]
    }
   ],
   "source": [
    "model = SVC(C= 20, decision_function_shape= 'ovo', kernel= 'rbf')\n",
    "eval_model(model)"
   ]
  }
 ],
 "metadata": {
  "kernelspec": {
   "display_name": "Python 3",
   "language": "python",
   "name": "python3"
  },
  "language_info": {
   "codemirror_mode": {
    "name": "ipython",
    "version": 3
   },
   "file_extension": ".py",
   "mimetype": "text/x-python",
   "name": "python",
   "nbconvert_exporter": "python",
   "pygments_lexer": "ipython3",
   "version": "3.11.0"
  }
 },
 "nbformat": 4,
 "nbformat_minor": 2
}
